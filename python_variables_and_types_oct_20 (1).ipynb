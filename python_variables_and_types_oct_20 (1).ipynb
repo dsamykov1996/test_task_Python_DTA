{
 "cells": [
  {
   "cell_type": "markdown",
   "id": "fa78fd60",
   "metadata": {},
   "source": [
    "# 🐍 Python для початківців: Типи даних та змінні\n",
    "---\n",
    "Цей ноутбук допоможе вам потренуватись у створенні змінних, роботі з базовими типами даних та написанні простих програм у Python.\n",
    "Виконуйте завдання послідовно у своїх комірках і звертайте увагу на результати."
   ]
  },
  {
   "cell_type": "markdown",
   "id": "c3b52ba9",
   "metadata": {},
   "source": [
    "## Розділ 1. Знайомство зі змінними\n",
    "**Мета:** навчитися створювати змінні, присвоювати значення та переглядати типи.\n",
    "\n",
    "**Завдання 1.** Створи змінні:\n",
    "- name — твоє ім’я\n",
    "- age — твій вік\n",
    "- city — місто, у якому ти живеш\n",
    "\n",
    "Потім виведи їх на екран."
   ]
  },
  {
   "cell_type": "code",
   "execution_count": 2,
   "id": "856622fc-13c5-4cbe-a6d2-f6ee50f8657d",
   "metadata": {},
   "outputs": [
    {
     "name": "stdout",
     "output_type": "stream",
     "text": [
      "Dmytro\n",
      "29\n",
      "Berlin\n"
     ]
    }
   ],
   "source": [
    "name = \"Dmytro\"\n",
    "age = 29\n",
    "city = \"Berlin\"\n",
    "print(name)\n",
    "print(age)\n",
    "print(city)"
   ]
  },
  {
   "cell_type": "markdown",
   "id": "8706e5b3-cd0c-4d95-8905-35f6bc804138",
   "metadata": {},
   "source": [
    "**Завдання 2.** \n",
    "Додай рядок:  "
   ]
  },
  {
   "cell_type": "code",
   "execution_count": 3,
   "id": "510f0c9d-08e8-488a-88f5-8bf7cb280394",
   "metadata": {},
   "outputs": [
    {
     "name": "stdout",
     "output_type": "stream",
     "text": [
      "Мене звати Dmytro мені 29 років, я живу в Berlin\n"
     ]
    }
   ],
   "source": [
    "print(\"Мене звати\", name, \"мені\", age, \"років, я живу в\", city)"
   ]
  },
  {
   "cell_type": "markdown",
   "id": "73e7cbcd-c521-4b1e-afa8-991fa0391be8",
   "metadata": {},
   "source": [
    "**Завдання 3.** Використай функцію `type()` для кожної змінної та подивись, який у неї тип."
   ]
  },
  {
   "cell_type": "code",
   "execution_count": 4,
   "id": "052ba125-3258-4f5b-a28b-d6e00c276ad5",
   "metadata": {},
   "outputs": [
    {
     "data": {
      "text/plain": [
       "str"
      ]
     },
     "execution_count": 4,
     "metadata": {},
     "output_type": "execute_result"
    }
   ],
   "source": [
    "type(name)\n",
    "type(age)\n",
    "type(city)"
   ]
  },
  {
   "cell_type": "markdown",
   "id": "21448605-f4b9-4a13-b1a6-c7faf5b341ec",
   "metadata": {},
   "source": [
    "**Завдання 4.**  \n",
    "Зміни значення змінної age на нове (наприклад, `age = age + 1`) і виведи нове речення:\n",
    "“Наступного року мені буде ... років.”"
   ]
  },
  {
   "cell_type": "code",
   "execution_count": 13,
   "id": "b2d8f775-0468-4a77-8434-81795f469e30",
   "metadata": {},
   "outputs": [
    {
     "name": "stdout",
     "output_type": "stream",
     "text": [
      "Next year i will be 30 years old\n"
     ]
    }
   ],
   "source": [
    "print(\"Next year i will be\", age + (-2), \"years old\")"
   ]
  },
  {
   "cell_type": "markdown",
   "id": "d0727d73",
   "metadata": {},
   "source": [
    "## Розділ 2. Основні типи даних\n",
    "**Мета:** попрактикуватись із `int`, `float`, `str`, `bool`.\n",
    "\n",
    "**Завдання 5.**  \n",
    "\n",
    "Створи змінні:\n",
    "- a = 10\n",
    "- b = 3.5\n",
    "- c = \"Python\""
   ]
  },
  {
   "cell_type": "code",
   "execution_count": 28,
   "id": "86a46277-acb2-4638-873d-ecc639f4ae45",
   "metadata": {},
   "outputs": [],
   "source": [
    "a = 10\n",
    "b = 3.5\n",
    "c = \"Python\""
   ]
  },
  {
   "cell_type": "markdown",
   "id": "a603a15e-ba30-45b4-89c9-85eacac03d71",
   "metadata": {},
   "source": [
    "**Завдання 6.**  \n",
    "\n",
    "Виконай такі дії та подивись, який буде результат:\n",
    "- a + b\n",
    "- a / 2\n",
    "- a // 2\n",
    "- a % 3\n",
    "- a ** 3"
   ]
  },
  {
   "cell_type": "code",
   "execution_count": 29,
   "id": "444b1fbc-3c78-4979-8111-f5c1b2cba283",
   "metadata": {},
   "outputs": [
    {
     "data": {
      "text/plain": [
       "1000"
      ]
     },
     "execution_count": 29,
     "metadata": {},
     "output_type": "execute_result"
    }
   ],
   "source": [
    "a + b\n",
    "a / 2\n",
    "a // 2\n",
    "a % 3\n",
    "a ** 3"
   ]
  },
  {
   "cell_type": "markdown",
   "id": "f73c3474-06ab-4a54-85d8-e513bd2eb1ba",
   "metadata": {},
   "source": [
    "**Завдання 7.**  \n",
    "Зміни тип змінної `a` на `str` і об’єднай її з `c`."
   ]
  },
  {
   "cell_type": "code",
   "execution_count": 25,
   "id": "c14ba055-3e86-470e-a746-3ce55459ddcc",
   "metadata": {},
   "outputs": [
    {
     "name": "stdout",
     "output_type": "stream",
     "text": [
      "<class 'str'>Python\n"
     ]
    }
   ],
   "source": [
    "text = str(a) + c \n",
    "print(text)"
   ]
  },
  {
   "cell_type": "markdown",
   "id": "4b2f7959-6625-4e16-955a-3fe36feccd28",
   "metadata": {},
   "source": [
    "**Завдання 8.**  \n",
    "Порівняй різні значення:\n",
    "- 5 > 2\n",
    "- 7 == 8\n",
    "- 10 != 10\n",
    "- 3 <= 5"
   ]
  },
  {
   "cell_type": "code",
   "execution_count": 30,
   "id": "d90029d4",
   "metadata": {},
   "outputs": [
    {
     "data": {
      "text/plain": [
       "True"
      ]
     },
     "execution_count": 30,
     "metadata": {},
     "output_type": "execute_result"
    }
   ],
   "source": [
    "5 > 2\n",
    "7 == 8\n",
    "10!= 10\n",
    "3 <= 5"
   ]
  },
  {
   "cell_type": "markdown",
   "id": "de824a18",
   "metadata": {},
   "source": [
    "## Розділ 3. Робота з рядками (`str`)"
   ]
  },
  {
   "cell_type": "markdown",
   "id": "e8b24352-1084-49b3-8942-7cd6c503986a",
   "metadata": {},
   "source": [
    "**Завдання 9.**  \n",
    "Створи рядок `text = \"Python is fun!\"`."
   ]
  },
  {
   "cell_type": "code",
   "execution_count": 31,
   "id": "399a3127-c23f-4a6b-9f91-5c5045624e75",
   "metadata": {},
   "outputs": [],
   "source": [
    "text = \"Python is fun!\""
   ]
  },
  {
   "cell_type": "markdown",
   "id": "7e3df9d8-e311-45a7-b2e0-5c518128ba8a",
   "metadata": {},
   "source": [
    "**Завдання 10.**  \n",
    "\n",
    "Виведи:\n",
    "- довжину рядка (len(text))\n",
    "- перший і останній символ\n",
    "- рядок у верхньому регістрі\n",
    "- рядок у нижньому регістрі"
   ]
  },
  {
   "cell_type": "code",
   "execution_count": 37,
   "id": "a89038b4-8e3f-4fe9-a222-c4992cdcd72e",
   "metadata": {},
   "outputs": [
    {
     "name": "stdout",
     "output_type": "stream",
     "text": [
      "14\n",
      "P\n",
      "!\n",
      "PYTHON IS FUN!\n",
      "python is fun!\n"
     ]
    }
   ],
   "source": [
    "print(len(text))\n",
    "print(text[0])\n",
    "print(text[-1])\n",
    "print(text.upper())\n",
    "print(text.lower())\n"
   ]
  },
  {
   "cell_type": "markdown",
   "id": "3a724f21-9513-4a69-ac0a-46d62e1c003f",
   "metadata": {},
   "source": [
    "**Завдання 11.**  \n",
    "Створи речення з кількох змінних:  \n",
    "```\n",
    "lang = \"Python\"  \n",
    "level = \"beginner\"  \n",
    "print(f\"I am a {level} in {lang}\")\n",
    "```"
   ]
  },
  {
   "cell_type": "code",
   "execution_count": 38,
   "id": "3b62e570-2ac8-4615-a356-f70f98311d6b",
   "metadata": {},
   "outputs": [
    {
     "name": "stdout",
     "output_type": "stream",
     "text": [
      "I am Beginner in Python\n"
     ]
    }
   ],
   "source": [
    "lang = \"Python\"\n",
    "level = \"Beginner\"\n",
    "print(f\"I am {level} in {lang}\")"
   ]
  },
  {
   "cell_type": "markdown",
   "id": "3b83e6f8-8fb1-4fc3-ae3a-3fa56e656b6d",
   "metadata": {},
   "source": [
    "**Завдання 12.**  \n",
    "Попроси користувача ввести своє ім’я через input() і виведи:  \n",
    "`print(\"Привіт,\", name + \"!\")`"
   ]
  },
  {
   "cell_type": "code",
   "execution_count": 39,
   "id": "a74733a1-00fa-455e-90ba-9947b9125d6a",
   "metadata": {},
   "outputs": [
    {
     "name": "stdout",
     "output_type": "stream",
     "text": [
      "Hi, DIma !\n"
     ]
    }
   ],
   "source": [
    "name_1 = input(\"Enter your name:\")\n",
    "print(\"Hi,\", name_1, \"!\")"
   ]
  },
  {
   "cell_type": "markdown",
   "id": "7753ccd8",
   "metadata": {},
   "source": [
    "## Розділ 4. Робота з числами"
   ]
  },
  {
   "cell_type": "markdown",
   "id": "e4438c4f-cda8-41d5-83e6-aa4858ffe436",
   "metadata": {},
   "source": [
    "**Завдання 13.**  \n",
    "Обчисли площу прямокутника:\n",
    "- створи змінні `a = 5, b = 8`\n",
    "- знайди `area = a * b`\n",
    "- виведи результат: \"Площа прямокутника дорівнює ...\""
   ]
  },
  {
   "cell_type": "code",
   "execution_count": 44,
   "id": "a1085c26-6869-4634-a232-3706b658b6e0",
   "metadata": {},
   "outputs": [
    {
     "name": "stdout",
     "output_type": "stream",
     "text": [
      "ANSWER IS: 40\n"
     ]
    }
   ],
   "source": [
    "a = 5 \n",
    "b = 8\n",
    "area = a * b\n",
    "print(\"ANSWER IS:\", area)"
   ]
  },
  {
   "cell_type": "markdown",
   "id": "9f8c365e-f1e7-49b1-819c-3419f5f25978",
   "metadata": {},
   "source": [
    "**Завдання 14.**  \n",
    "Обчисли середнє арифметичне трьох чисел, введених користувачем."
   ]
  },
  {
   "cell_type": "code",
   "execution_count": 3,
   "id": "85b478b4-a744-45ba-bca9-f3b891a65f10",
   "metadata": {},
   "outputs": [
    {
     "name": "stdout",
     "output_type": "stream",
     "text": [
      "6\n"
     ]
    }
   ],
   "source": [
    "number_1 = int(input(\"Text number:\"))\n",
    "number_2 = int(input(\"Text number:\"))\n",
    "number_3 = int(input(\"Text number:\"))\n",
    "\n",
    "print(number_1 + number_2 + number_3)\n",
    "\n",
    "\n"
   ]
  },
  {
   "cell_type": "markdown",
   "id": "d9291030-e565-4f08-9c37-a0eec1117c66",
   "metadata": {},
   "source": [
    "**Завдання 15.**  \n",
    "Створи змінну `temperature_c = 25` і переведи її у Фаренгейти:  \n",
    "\n",
    "`temperature_f = temperature_c * 9/5 + 32`"
   ]
  },
  {
   "cell_type": "code",
   "execution_count": 7,
   "id": "d2f03ccc-ef08-4dcd-a8cb-241d6ee7289f",
   "metadata": {},
   "outputs": [
    {
     "name": "stdout",
     "output_type": "stream",
     "text": [
      "77.0\n"
     ]
    }
   ],
   "source": [
    "temperature_c = 25\n",
    "temperature_f = temperature_c * 9/5 + 32\n",
    "\n",
    "print(temperature_f)"
   ]
  },
  {
   "cell_type": "markdown",
   "id": "e96bdca1",
   "metadata": {},
   "source": [
    "## Розділ 5. Логічні вирази (`bool`)"
   ]
  },
  {
   "cell_type": "markdown",
   "id": "6d9bed6e-f6aa-417c-9c53-f1add4bfb940",
   "metadata": {},
   "source": [
    "**Завдання 16.**  \n",
    "Перевір, чи людина повнолітня:\n",
    "```\n",
    "age = int(input(\"Скільки тобі років? \"))\n",
    "is_adult = age >= 18\n",
    "print(\"Повнолітній?\", is_adult)"
   ]
  },
  {
   "cell_type": "code",
   "execution_count": 14,
   "id": "d5b95cb5-ab55-4b7a-84c4-7a7ffed8c9ca",
   "metadata": {},
   "outputs": [
    {
     "name": "stdout",
     "output_type": "stream",
     "text": [
      "Not yet\n"
     ]
    }
   ],
   "source": [
    "age = int(input(\"How old are you?:\"))\n",
    "adult = age >= 18\n",
    "if adult:\n",
    "    print(\"Your adult\")\n",
    "else:\n",
    "    print(\"Not yet\")    "
   ]
  },
  {
   "cell_type": "markdown",
   "id": "3153f1f0-0332-4cea-9e45-83b02205319f",
   "metadata": {},
   "source": [
    "**Завдання 17.**  \n",
    "Напиши перевірку парності:  \n",
    "```\n",
    "number = int(input(\"Введи число: \"))\n",
    "print(\"Парне?\", number % 2 == 0)"
   ]
  },
  {
   "cell_type": "code",
   "execution_count": 16,
   "id": "e1a8ec27-96ff-4905-b45e-c6356079cb37",
   "metadata": {},
   "outputs": [
    {
     "name": "stdout",
     "output_type": "stream",
     "text": [
      "NOT GOOD\n"
     ]
    }
   ],
   "source": [
    "number = int(input(\"Number:\"))\n",
    "number_2 = number % 2 == 0\n",
    "if number_2:\n",
    "    print(\"GOOD\")\n",
    "else:\n",
    "    print(\"NOT GOOD\")\n",
    "        "
   ]
  },
  {
   "cell_type": "markdown",
   "id": "4045878b-de49-4b55-806e-4eb4a42fc4f7",
   "metadata": {},
   "source": [
    "**Завдання 18.**  \n",
    "Створи дві змінні x = 10, y = 20.  \n",
    "Виведи результат:\n",
    "- `x > 5 and y < 30`\n",
    "- `x < 0 or y == 20`\n",
    "- `not(x > y)`"
   ]
  },
  {
   "cell_type": "code",
   "execution_count": 21,
   "id": "3470e65f-ef91-42fe-921e-35dce45d4eef",
   "metadata": {},
   "outputs": [
    {
     "name": "stdout",
     "output_type": "stream",
     "text": [
      "True\n",
      "True\n",
      "True\n"
     ]
    }
   ],
   "source": [
    "x = 10\n",
    "y = 20\n",
    "\n",
    "print(x > 5 and y < 30)\n",
    "print(x < 0 or y == 20)\n",
    "print(not(x > y))\n"
   ]
  },
  {
   "cell_type": "markdown",
   "id": "91957df2",
   "metadata": {},
   "source": [
    "## Розділ 6. Комбіновані завдання"
   ]
  },
  {
   "cell_type": "markdown",
   "id": "2e010973-8890-4f0d-96d7-6f00bd66d648",
   "metadata": {},
   "source": [
    "**Завдання 19.**  \n",
    "Попроси користувача ввести рік народження та обчисли вік.  \n",
    "Потім виведи:\n",
    "```\n",
    "\"Твій вік: ... років\"\n",
    "\"Повнолітній? True/False\""
   ]
  },
  {
   "cell_type": "code",
   "execution_count": 28,
   "id": "fca4cbb5-c441-40ca-8b07-e15916677b19",
   "metadata": {},
   "outputs": [
    {
     "name": "stdout",
     "output_type": "stream",
     "text": [
      "Young\n"
     ]
    }
   ],
   "source": [
    "your_age = int(input(\"Your age:\"))\n",
    "adult = your_age >= 18\n",
    "if adult:\n",
    "    print(\"You adult\")\n",
    "else:\n",
    "    print(\"Young\")    \n"
   ]
  },
  {
   "cell_type": "markdown",
   "id": "85b0adeb-8309-4173-a656-ab0758588aba",
   "metadata": {},
   "source": [
    "**Завдання 20.**  \n",
    "Створи калькулятор, який:\n",
    "- запитує два числа і дію (+, -, *, /)\n",
    "- виводить результат обчислення."
   ]
  },
  {
   "cell_type": "code",
   "execution_count": 6,
   "id": "57c3b75f-eb64-4f0d-b49f-abc1915f7c26",
   "metadata": {},
   "outputs": [
    {
     "name": "stdout",
     "output_type": "stream",
     "text": [
      "5 + 5 = 10\n"
     ]
    }
   ],
   "source": [
    "# calculator + \n",
    "\n",
    "num_1 = int(input(\"First number:\"))\n",
    "num_2 = int(input(\"Second number:\"))\n",
    "ex = input(\"+, -, *, /\")\n",
    "\n",
    "if ex == \"+\":\n",
    "    result = num_1 + num_2\n",
    "elif ex == \"-\":\n",
    "    result = num_1 - num_2\n",
    "elif ex == \"/\":\n",
    "    result = num_1 / num_2\n",
    "elif ex == \"*\":\n",
    "    result = num_1 * num_2\n",
    "else:\n",
    "    print(\"error\")                \n",
    "\n",
    "print(f\"{num_1} {ex} {num_2} = {result}\")"
   ]
  },
  {
   "cell_type": "markdown",
   "id": "ebc497ad-f71d-4d90-87ac-47335efe30a0",
   "metadata": {},
   "source": [
    "**Завдання 21.**  \n",
    "Створи просту програму для обчислення індексу маси тіла (BMI):\n",
    "```\n",
    "weight = float(input(\"Введи вагу (кг): \"))\n",
    "height = float(input(\"Введи зріст (м): \"))\n",
    "bmi = weight / (height ** 2)\n",
    "print(\"Твій індекс маси тіла:\", bmi)"
   ]
  },
  {
   "cell_type": "code",
   "execution_count": null,
   "id": "81c56018-cd30-474e-aade-61cbeb2887b1",
   "metadata": {},
   "outputs": [
    {
     "name": "stdout",
     "output_type": "stream",
     "text": [
      "Your index body mass: 22.395413419331717\n"
     ]
    }
   ],
   "source": [
    "weight = float(input(\"Your weight kg:\"))\n",
    "height = float(input(\"Your height m:\"))\n",
    "bmi = weight / (height ** 2)\n",
    "print(\"Your index body mass:\", bmi)\n"
   ]
  },
  {
   "cell_type": "markdown",
   "id": "69c564ad-7b30-401a-b3e2-28ac47342f55",
   "metadata": {},
   "source": [
    "**Завдання 22.**  \n",
    "Створи змінну `sentence = \"learning python is easy and fun\"`\n",
    "\n",
    "1. перетвори першу літеру у велику `(capitalize())`\n",
    "2. порахуй, скільки разів зустрічається літера \"a\"\n",
    "3. перевір, чи рядок містить слово \"fun\""
   ]
  },
  {
   "cell_type": "code",
   "execution_count": null,
   "id": "4fc64f6a",
   "metadata": {},
   "outputs": [
    {
     "name": "stdout",
     "output_type": "stream",
     "text": [
      "fun not found\n",
      "Learning python is easy and fun\n",
      "3\n"
     ]
    }
   ],
   "source": [
    "sentence = \"learning python is easy and fun\"\n",
    "\n",
    "if \"fun\":\n",
    "    print(\"fun is here\")\n",
    "else:\n",
    "    print(\"fun not found\")    \n",
    "\n",
    "print(sentence.capitalize())\n",
    "print(sentence.count(\"a\"))"
   ]
  },
  {
   "cell_type": "markdown",
   "id": "1df0a6a8-5cd9-4cf4-9194-1fd180ccd561",
   "metadata": {},
   "source": [
    "**Завдання 23.**  \n",
    "🧮 Конвертер валют\n",
    "Попроси користувача ввести суму в євро та курс долара.\n",
    "Обчисли, скільки це буде в доларах."
   ]
  },
  {
   "cell_type": "code",
   "execution_count": null,
   "id": "2b7223b6-672b-4824-851d-2f6ba6b39a29",
   "metadata": {},
   "outputs": [
    {
     "name": "stdout",
     "output_type": "stream",
     "text": [
      "0.9090909090909091\n"
     ]
    }
   ],
   "source": [
    "dollar = float(1.10)\n",
    "euro = (float(input(\"Text dollar and get euro:\")))\n",
    "# \n",
    "print(euro / dollar)"
   ]
  },
  {
   "cell_type": "markdown",
   "id": "adf0a7b4-33fa-4058-b336-4fc95b224fbe",
   "metadata": {},
   "source": [
    "**Завдання 24.**  \n",
    "📆 Калькулятор віку  \n",
    "Введи поточний рік і рік народження користувача.  \n",
    "Порахуйте, скільки років людині буде через 5 років."
   ]
  },
  {
   "cell_type": "code",
   "execution_count": 55,
   "id": "1ed024b3-ad81-4337-85be-1a318513117b",
   "metadata": {},
   "outputs": [
    {
     "name": "stdout",
     "output_type": "stream",
     "text": [
      "Your age is: 29\n"
     ]
    }
   ],
   "source": [
    "current_year = 2025\n",
    "your_age = int(input(\"Your year of birth:\"))\n",
    "\n",
    "print(\"Your age is:\", current_year - your_age)"
   ]
  },
  {
   "cell_type": "markdown",
   "id": "71120ddb-d66a-4a76-b226-2867b1edd624",
   "metadata": {},
   "source": [
    "**Завдання 25.**  \n",
    "Користувач вводить:\n",
    "- ім’я\n",
    "- улюблену мову програмування\n",
    "\n",
    "Якщо це \"Python\" — вивести \"Ти крутий!\",  \n",
    "інакше — \"Треба спробувати Python:)\""
   ]
  },
  {
   "cell_type": "code",
   "execution_count": 59,
   "id": "ddd6dc5f-d4a9-4677-9828-b917a8553246",
   "metadata": {},
   "outputs": [
    {
     "name": "stdout",
     "output_type": "stream",
     "text": [
      "Dima Try Python\n"
     ]
    }
   ],
   "source": [
    "name = input(\"Your name:\")\n",
    "python = \"Python\"\n",
    "your_fav = input(\"Your language:\")\n",
    "\n",
    "if your_fav == python:\n",
    "    print(name, \"Your great\")\n",
    "else:\n",
    "    print(name, \"Try Python\")    "
   ]
  }
 ],
 "metadata": {
  "kernelspec": {
   "display_name": "Python 3",
   "language": "python",
   "name": "python3"
  },
  "language_info": {
   "codemirror_mode": {
    "name": "ipython",
    "version": 3
   },
   "file_extension": ".py",
   "mimetype": "text/x-python",
   "name": "python",
   "nbconvert_exporter": "python",
   "pygments_lexer": "ipython3",
   "version": "3.13.9"
  }
 },
 "nbformat": 4,
 "nbformat_minor": 5
}
